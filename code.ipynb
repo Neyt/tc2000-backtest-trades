{
 "cells": [
  {
   "cell_type": "markdown",
   "metadata": {},
   "source": [
    "# Trade Visualizer for Google Colab\n",
    "This notebook visualizes stock trades by generating candlestick charts for a random selection of stocks. The program reads trade data from a CSV file, fetches historical stock data using Yahoo Finance, and plots charts with marked buy and sell trades.\n",
    "\n",
    "Ensure you upload your CSV file when prompted to proceed."
   ]
  },
  {
   "cell_type": "code",
   "execution_count": null,
   "metadata": {
    "colab": {
     "base_uri": "https://localhost:8080/"
    },
    "collapsed": false
   },
   "outputs": [],
   "source": [
    "# Import required libraries\n",
    "import plotly.graph_objects as go\n",
    "import pandas as pd\n",
    "import yfinance as yf\n",
    "import random"
   ]
  },
  {
   "cell_type": "markdown",
   "metadata": {},
   "source": [
    "## Step 1: Load Example CSV File\n",
    "In this example, we will load the 'trades.csv' file containing sample trade data. The file should have columns including \"Sym\" (symbol), \"Time\" (trade time), \"Price\" (trade price), and \"Bot/Sld\" (buy or sell indicator)."
   ]
  },
  {
   "cell_type": "code",
   "execution_count": null,
   "metadata": {
    "colab": {
     "base_uri": "https://localhost:8080/"
    },
    "collapsed": false
   },
   "outputs": [],
   "source": [
    "# Load the CSV file\n",
    "data = pd.read_csv('trades.csv', parse_dates=['Time'])"
   ]
  },
  {
   "cell_type": "markdown",
   "metadata": {},
   "source": [
    "## Step 2: Random Selection of Stocks\n",
    "The following code will select a random sample of 10 stocks from the data you uploaded."
   ]
  },
  {
   "cell_type": "code",
   "execution_count": null,
   "metadata": {
    "colab": {
     "base_uri": "https://localhost:8080/"
    },
    "collapsed": false
   },
   "outputs": [],
   "source": [
    "# Get a random sample of 10 unique symbols\n",
    "random_symbols = random.sample(list(data['Sym'].unique()), min(10, len(data['Sym'].unique())))"
   ]
  },
  {
   "cell_type": "markdown",
   "metadata": {},
   "source": [
    "## Step 3: Plot Candlestick Charts\n",
    "The following code will generate candlestick charts for each of the randomly selected stocks. Buy and sell trades are marked on the charts.\n",
    "\n",
    "This step might take some time, depending on the amount of data and the number of symbols selected."
   ]
  },
  {
   "cell_type": "code",
   "execution_count": null,
   "metadata": {
    "colab": {
     "base_uri": "https://localhost:8080/"
    },
    "collapsed": false
   },
   "outputs": [],
   "source": [
    "# Iterate through each randomly selected symbol in the dataset\n",
    "for symbol in random_symbols:\n",
    "    # Filter trades for the current symbol\n",
    "    symbol_trades = data[data['Sym'] == symbol]\n",
    "    \n",
    "    # Get the earliest and latest trade dates for this symbol\n",
    "    min_trade_date = symbol_trades['Time'].min()\n",
    "    max_trade_date = symbol_trades['Time'].max()\n",
    "\n",
    "    # Define the start and end date for fetching historical data\n",
    "    start_date = pd.to_datetime(min_trade_date - pd.DateOffset(months=1)).date()\n",
    "    end_date = pd.to_datetime(max_trade_date + pd.DateOffset(months=1)).date()\n",
    "\n",
    "    # Fetch historical data for the stock using yfinance\n",
    "    historical_data = yf.download(symbol, start=start_date, end=end_date)\n",
    "\n",
    "    # Ensure historical data is available\n",
    "    if not historical_data.empty:\n",
    "        # Filter out non-trading dates to avoid gaps\n",
    "        historical_data.index = pd.to_datetime(historical_data.index).date\n",
    "\n",
    "        # Plot the candlestick chart using Plotly\n",
    "        fig = go.Figure(data=[go.Candlestick(\n",
    "            x=historical_data.index,\n",
    "            open=historical_data['Open'],\n",
    "            high=historical_data['High'],\n",
    "            low=historical_data['Low'],\n",
    "            close=historical_data['Close'],\n",
    "            name='Candlesticks'\n",
    "        )])\n",
    "\n",
    "        # Adding buy and sell annotations for all trades of the same symbol\n",
    "        y_offset = 0.02  # Offset to avoid overlapping markers\n",
    "        for idx, row in symbol_trades.iterrows():\n",
    "            # Convert the trade time to datetime.date for consistency\n",
    "            trade_time = pd.to_datetime(row['Time']).date()\n",
    "            trade_price = row['Price']\n",
    "            trade_type = row['Bot/Sld']\n",
    "\n",
    "            # Make sure the trade price is within a reasonable range to avoid markers being far from the actual range\n",
    "            min_price = historical_data['Low'].min()\n",
    "            max_price = historical_data['High'].max()\n",
    "\n",
    "            if min_price <= trade_price <= max_price and start_date <= trade_time <= end_date:\n",
    "                # Apply a small offset only if it doesn't push the marker outside of reasonable range\n",
    "                adjusted_price = trade_price + (y_offset if trade_type == 'Bot' else -y_offset)\n",
    "\n",
    "                # Ensure adjusted price is within bounds\n",
    "                if adjusted_price < min_price:\n",
    "                    adjusted_price = min_price\n",
    "                elif adjusted_price > max_price:\n",
    "                    adjusted_price = max_price\n",
    "\n",
    "                # Add trade markers\n",
    "                fig.add_trace(go.Scatter(\n",
    "                    x=[trade_time],\n",
    "                    y=[adjusted_price],\n",
    "                    mode='markers+text',\n",
    "                    marker=dict(\n",
    "                        color='green' if trade_type == 'Bot' else 'red',\n",
    "                        size=10,\n",
    "                        symbol='triangle-up' if trade_type == 'Bot' else 'triangle-down'\n",
    "                    ),\n",
    "                    text=['Buy' if trade_type == 'Bot' else 'Sell'],\n",
    "                    textposition='top center',\n",
    "                    name='Entry/Exit'\n",
    "                ))\n",
    "\n",
    "        # Update layout to include volume and format chart without gaps\n",
    "        fig.update_layout(\n",
    "            title=f'{symbol} - Daily Candlestick Chart with Trades (No Gaps)',\n",
    "            xaxis_title='Date',\n",
    "            yaxis_title='Price',\n",
    "            xaxis_rangeslider_visible=False,\n",
    "            xaxis=dict(\n",
    "                type='category',\n",
    "                tickangle=-45,  # Rotate the labels for better readability\n",
    "                tickformat='%b %d',  # Format the date labels to show only month and day\n",
    "                tickmode='auto',  # Automatically adjust the tick spacing\n",
    "                nticks=15  # Limit the number of ticks to prevent overcrowding\n",
    "            ),\n",
    "            template='plotly_dark'\n",
    "        )\n",
    "\n",
    "        # Show the chart for the current symbol\n",
    "        fig.show()\n",
    "    else:\n",
    "        print(f\"No historical data found for symbol {symbol} between {start_date} and {end_date}.\")"
   ]
  }
 ],
 "metadata": {
  "kernelspec": {
   "display_name": "Python 3",
   "language": "python",
   "name": "python3"
  },
  "language_info": {
   "name": "python",
   "version": "3.8"
  }
 },
 "nbformat": 4,
 "nbformat_minor": 2
}
